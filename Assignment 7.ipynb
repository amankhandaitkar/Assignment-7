{
 "cells": [
  {
   "cell_type": "markdown",
   "id": "39292a57",
   "metadata": {},
   "source": [
    "# Q.1. Create two int type variables, apply addition, subtraction, division and multiplications and store the results in variables. Then print the data in the following format by calling the variables:\n",
    "\n",
    "First variable is __ & second variable is __.\n",
    "\n",
    "Addition: __ + __ = __\n",
    "\n",
    "Subtraction: __ - __ = __\n",
    "\n",
    "Multiplication: __ * __ = __\n",
    "\n",
    "Division: __ / __ = __"
   ]
  },
  {
   "cell_type": "code",
   "execution_count": 4,
   "id": "eee07df4",
   "metadata": {},
   "outputs": [
    {
     "name": "stdout",
     "output_type": "stream",
     "text": [
      "First variable is 10 & second variable is 5\n",
      "Addition: 10 + 5 = 15\n",
      "Subtraction: 10 - 5 = 5\n",
      "Multiplication: 10 * 5 = 50\n",
      "Division: 10 / 5 = 2.0\n"
     ]
    }
   ],
   "source": [
    "first_variable = 10\n",
    "second_variable = 5\n",
    "\n",
    "addition_result = first_variable + second_variable\n",
    "subtraction_result = first_variable - second_variable\n",
    "multiplication_result = first_variable * second_variable\n",
    "\n",
    "if second_variable != 0:\n",
    "    division_result = first_variable / second_variable\n",
    "else:\n",
    "    division_result = \"Undefined (division by zero)\"\n",
    "\n",
    "print(\"First variable is\", first_variable, \"& second variable is\", second_variable)\n",
    "print(\"Addition:\", first_variable, \"+\", second_variable, \"=\", addition_result)\n",
    "print(\"Subtraction:\", first_variable, \"-\", second_variable, \"=\", subtraction_result)\n",
    "print(\"Multiplication:\", first_variable, \"*\", second_variable, \"=\", multiplication_result)\n",
    "print(\"Division:\", first_variable, \"/\", second_variable, \"=\", division_result)\n"
   ]
  },
  {
   "cell_type": "markdown",
   "id": "f2724540",
   "metadata": {},
   "source": [
    "# Q.2. What is the difference between the following operators:\n",
    "(i) ‘/’ & ‘//’\n",
    "\n",
    "(ii) ‘**’ & ‘^’\n",
    "\n",
    "\n",
    "Ans-:(i) \n",
    "- `/` is the division operator in Python.\n",
    "- `//` is the floor division operator in Python, which returns the floor of the division result (rounded down to the nearest integer).\n",
    "\n",
    "(ii)\n",
    "- `**` is the exponentiation operator in Python, used for raising a number to a power.\n",
    "- `^` is not an exponentiation operator; it's a bitwise XOR operator in Python."
   ]
  },
  {
   "cell_type": "markdown",
   "id": "609cca3a",
   "metadata": {},
   "source": [
    "# Q.3. List the logical operators.\n",
    "\n",
    "Ans-:The logical operators are:\n",
    "\n",
    "1. and\n",
    "2. or\n",
    "3. not"
   ]
  },
  {
   "cell_type": "markdown",
   "id": "d3681091",
   "metadata": {},
   "source": [
    "# Q.4. Explain right shift operator and left shift operator with examples.\n",
    "\n",
    "Ans-: Right Shift (`>>`): Shifts bits to the right. Example: `8 >> 2` results in `2`.\n",
    "\n",
    "Left Shift (`<<`): Shifts bits to the left. Example: `4 << 1` results in `8`."
   ]
  },
  {
   "cell_type": "markdown",
   "id": "6ec6d3c1",
   "metadata": {},
   "source": [
    "# Q.5. Create a list containing int type data of length 15. Then write a code to check if 10 is present in the list or not."
   ]
  },
  {
   "cell_type": "code",
   "execution_count": 6,
   "id": "bf069c6c",
   "metadata": {},
   "outputs": [
    {
     "name": "stdout",
     "output_type": "stream",
     "text": [
      "10 is present in the list.\n"
     ]
    }
   ],
   "source": [
    "#Ans:-\n",
    "# Create a list of integers\n",
    "my_list = [1, 2, 3, 4, 5, 6, 7, 8, 9, 10, 11, 12, 13, 14, 15]\n",
    "\n",
    "# Check if 10 is present in the list\n",
    "if 10 in my_list:\n",
    "    print(\"10 is present in the list.\")\n",
    "else:\n",
    "    print(\"10 is not present in the list.\")\n"
   ]
  }
 ],
 "metadata": {
  "kernelspec": {
   "display_name": "Python 3 (ipykernel)",
   "language": "python",
   "name": "python3"
  },
  "language_info": {
   "codemirror_mode": {
    "name": "ipython",
    "version": 3
   },
   "file_extension": ".py",
   "mimetype": "text/x-python",
   "name": "python",
   "nbconvert_exporter": "python",
   "pygments_lexer": "ipython3",
   "version": "3.11.3"
  }
 },
 "nbformat": 4,
 "nbformat_minor": 5
}
